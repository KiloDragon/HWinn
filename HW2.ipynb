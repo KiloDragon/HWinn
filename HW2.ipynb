import pandas as pd

import seaborn as sns
import matplotlib.pyplot as plt

from scipy.stats import ttest_ind

# Hypothesis Testing
# -----------------------------------
# Структура данных:
# MarketID: unique identifier for market
# MarketSize: size of market area by sales
# LocationID: unique identifier for store location
# Promotion: one of three promotions that were tested
# week: one of four weeks when the promotions were run
# SalesInThousands: sales amount for a specific LocationID, Promotion, and week


import warnings

warnings.filterwarnings("ignore")
warnings.simplefilter(action='ignore', category=FutureWarning)

pd.set_option('display.max_columns', None)
pd.options.display.float_format = '{:.4f}'.format

data = pd.read_csv("WA_Marketing-Campaign.csv")


class Graph:

    def __init__(self, data_XY, chart_name, X, Y):
        self.counts = data_XY.value_counts().reset_index()
        self.counts.columns = [X, Y]
        plt.figure(chart_name)
        sns.barplot(x=X, y=Y, data=self.counts)
        plt.title(chart_name)
        plt.xlabel(X)
        plt.ylabel(Y)

    def Graph_Vis(self):
        return plt.show()


# Строим график по продажам от продвижения
promotion_sales = data['SalesInThousands'].groupby(data["Promotion"]).sum()
sales_sum = data['SalesInThousands'].sum()
promotion_sales_percentage = round((promotion_sales / sales_sum) * 100)
promotion_sales_percentage_visual = plt.figure("Продажи по продвижениям")
colors = sns.color_palette('pastel')[0:5]
plt.pie(promotion_sales_percentage, labels=data["Promotion"].unique(), autopct='%.0f%%', colors=colors)

# Подготовка данных для расчета критерия Стьюдента
promo_1 = data['SalesInThousands'].where(data["Promotion"] == 1)
promo_2 = data['SalesInThousands'].where(data["Promotion"] == 2)
promo_3 = data['SalesInThousands'].where(data["Promotion"] == 3)

# Рассчет t-парметра
test_result = ttest_ind(promo_1, promo_2, nan_policy='omit')

if __name__ == "__main__":
    print(data.describe(include='all'))
    # Проведем анализ данных:
    # Визуализация Размеров рынка, Продаж и Продаж по Стартегиям Продвижения на графике
    Graph_Market = Graph(data["MarketSize"], 'Размер рынка', "MarketSize", "Count")
    Graph_Promotion = Graph(data['Promotion'], 'Продвижение', "Promotion", 'Count')
    Graph_Market.Graph_Vis()
    Graph_Promotion.Graph_Vis()
    # Проведя анализ данных предполагаем гипотезы.
    # Предпологаемые гипотезы : Стратегия продвижения 1 эффективнее стратегии 2 по продажам на 6 %
    #                           Стратегия продвижения 3 и стратегия продвижени 2 аналогичны по эффекту на продажи
    #                           Стратегия продвижения 3 эффективнее для большого рынка

    # Проверим гипотезу о том что Стратегия продвижения 1 эффективнее стратегии 2 по продажам на 6 %
    # Попробуем протестировать гипотезу через критерий Стьюдента, вычислим параметры t и p
    print(test_result)
    # Поскольку p значение меньше 0.05 мы отколеняем нулевую гипотезу и можем говорить о том что между продвижением 1
    # и 2 есть различия и продвижение 1 лучше продвижения 2 подвреждая видвинутую гипотезу
