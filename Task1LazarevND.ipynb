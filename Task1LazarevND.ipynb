{
 "cells": [
  {
   "cell_type": "code",
   "execution_count": 1,
   "id": "e96f470e",
   "metadata": {},
   "outputs": [
    {
     "name": "stdout",
     "output_type": "stream",
     "text": [
      "[[10]]\n"
     ]
    }
   ],
   "source": [
    "Матрица1 = [[6, -8, 3]] \n",
    "Матрица2 = [[1], [1], [4]]\n",
    "k=len(Матрица1)\n",
    "m=len(Матрица2)\n",
    "n=len(Матрица2[0])\n",
    "c = [[None for __ in range(n)] for __ in range(k)]    \n",
    "\n",
    "for i in range(k):\n",
    "    for j in range(n):       \n",
    "        c[i][j] = sum(Матрица1[i][nn] * Матрица2[nn][j] for nn in range(m))\n",
    "  \n",
    "print(c)"
   ]
  },
  {
   "cell_type": "code",
   "execution_count": 2,
   "id": "4540a953",
   "metadata": {},
   "outputs": [
    {
     "name": "stdout",
     "output_type": "stream",
     "text": [
      "[[-52, 41], [104, -102], [-24, 12], [-4, -3]]\n"
     ]
    }
   ],
   "source": [
    "Матрица1 = [[3, -7],[-10, 6],[0,-6],[-1,-3]] \n",
    "Матрица2 = [[-8,9], [4,-2]]\n",
    "k=len(Матрица1)\n",
    "m=len(Матрица2)\n",
    "n=len(Матрица2[0])\n",
    "c = [[None for __ in range(n)] for __ in range(k)]    \n",
    "\n",
    "for i in range(k):\n",
    "    for j in range(n):       \n",
    "        c[i][j] = sum(Матрица1[i][nn] * Матрица2[nn][j] for nn in range(m))\n",
    "  \n",
    "print(c)"
   ]
  },
  {
   "cell_type": "code",
   "execution_count": 3,
   "id": "3ce5362d",
   "metadata": {},
   "outputs": [
    {
     "name": "stdout",
     "output_type": "stream",
     "text": [
      "ЛазаревНиколайДмитриевич\n"
     ]
    }
   ],
   "source": [
    "print('ЛазаревНиколайДмитриевич')"
   ]
  },
  {
   "cell_type": "code",
   "execution_count": null,
   "id": "c6183483",
   "metadata": {},
   "outputs": [],
   "source": []
  }
 ],
 "metadata": {
  "kernelspec": {
   "display_name": "Python 3 (ipykernel)",
   "language": "python",
   "name": "python3"
  },
  "language_info": {
   "codemirror_mode": {
    "name": "ipython",
    "version": 3
   },
   "file_extension": ".py",
   "mimetype": "text/x-python",
   "name": "python",
   "nbconvert_exporter": "python",
   "pygments_lexer": "ipython3",
   "version": "3.9.13"
  }
 },
 "nbformat": 4,
 "nbformat_minor": 5
}
