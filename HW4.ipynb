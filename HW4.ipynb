{
  "nbformat": 4,
  "nbformat_minor": 0,
  "metadata": {
    "colab": {
      "provenance": [],
      "authorship_tag": "ABX9TyPOnl1eRaVd/EYmLN9lObmk",
      "include_colab_link": true
    },
    "kernelspec": {
      "name": "python3",
      "display_name": "Python 3"
    },
    "language_info": {
      "name": "python"
    }
  },
  "cells": [
    {
      "cell_type": "markdown",
      "metadata": {
        "id": "view-in-github",
        "colab_type": "text"
      },
      "source": [
        "<a href=\"https://colab.research.google.com/github/KiloDragon/HWinn/blob/main/HW4.ipynb\" target=\"_parent\"><img src=\"https://colab.research.google.com/assets/colab-badge.svg\" alt=\"Open In Colab\"/></a>"
      ]
    },
    {
      "cell_type": "markdown",
      "source": [
        "Задача 1"
      ],
      "metadata": {
        "id": "1RY8b19kL5xA"
      }
    },
    {
      "cell_type": "code",
      "execution_count": null,
      "metadata": {
        "colab": {
          "base_uri": "https://localhost:8080/"
        },
        "id": "_2Zdl7qInjif",
        "outputId": "3158f2fb-56fa-4db4-bfb7-33f66b8c7d47"
      },
      "outputs": [
        {
          "output_type": "stream",
          "name": "stdout",
          "text": [
            "Матрица A :[[ 1  2  1]\n",
            " [-2  1  1]]\n",
            "Матрица B :[[ 3  1]\n",
            " [-1  0]\n",
            " [ 2  4]]\n",
            "Матрица C :[[-2  2]\n",
            " [ 1 -1]\n",
            " [ 1  2]]\n"
          ]
        }
      ],
      "source": [
        "import numpy as np\n",
        "\n",
        "A = np.array([[1,2,1],[-2,1,1]])\n",
        "B = np.array([[3,1],[-1,0],[2,4]])\n",
        "C = np.array([[-2,2],[1,-1],[1,2]])\n",
        "print(f'Матрица A :{A}')\n",
        "print(f'Матрица B :{B}')\n",
        "print(f'Матрица C :{C}')\n",
        "\n"
      ]
    },
    {
      "cell_type": "markdown",
      "source": [
        "\"sum1 = A+2B\"\n",
        "\"sum2 = B+2C\""
      ],
      "metadata": {
        "id": "hLjfTRA5qJYQ"
      }
    },
    {
      "cell_type": "code",
      "source": [
        "def matrix_sum(matrix1,matrix2):\n",
        " if matrix1.shape == matrix2.shape:\n",
        "   return np.add(matrix1,2*matrix2)\n",
        " else:\n",
        "   return\"Матрицы разной формы складывать нельзя\"\n",
        "\n"
      ],
      "metadata": {
        "id": "F2wbB53eqIiD"
      },
      "execution_count": null,
      "outputs": []
    },
    {
      "cell_type": "code",
      "source": [
        "print(matrix_sum(A,B))\n",
        "print(matrix_sum(B,C))"
      ],
      "metadata": {
        "colab": {
          "base_uri": "https://localhost:8080/"
        },
        "id": "X_fxwliWyVQ-",
        "outputId": "ec1ecf1c-bd24-400a-d0e6-4d173958a6c9"
      },
      "execution_count": null,
      "outputs": [
        {
          "output_type": "stream",
          "name": "stdout",
          "text": [
            "Матрицы разной формы складывать нельзя\n",
            "[[-1  5]\n",
            " [ 1 -2]\n",
            " [ 4  8]]\n"
          ]
        }
      ]
    },
    {
      "cell_type": "markdown",
      "source": [
        "Задача 2\n"
      ],
      "metadata": {
        "id": "WVe23je1Lv8B"
      }
    },
    {
      "cell_type": "code",
      "source": [
        "matrix_init=np.zeros((8,8),dtype=np.int32)\n",
        "matrix_init[::] = [1,0,1,0,1,0,1,0]\n",
        "matrix_init[::2] = [0,1,0,1,0,1,0,1]\n",
        "matrix_init"
      ],
      "metadata": {
        "colab": {
          "base_uri": "https://localhost:8080/"
        },
        "id": "Rjb3GuQQL1Hh",
        "outputId": "1dd15cd9-0244-4303-f5b1-d3c99c015e94"
      },
      "execution_count": null,
      "outputs": [
        {
          "output_type": "execute_result",
          "data": {
            "text/plain": [
              "array([[0, 1, 0, 1, 0, 1, 0, 1],\n",
              "       [1, 0, 1, 0, 1, 0, 1, 0],\n",
              "       [0, 1, 0, 1, 0, 1, 0, 1],\n",
              "       [1, 0, 1, 0, 1, 0, 1, 0],\n",
              "       [0, 1, 0, 1, 0, 1, 0, 1],\n",
              "       [1, 0, 1, 0, 1, 0, 1, 0],\n",
              "       [0, 1, 0, 1, 0, 1, 0, 1],\n",
              "       [1, 0, 1, 0, 1, 0, 1, 0]], dtype=int32)"
            ]
          },
          "metadata": {},
          "execution_count": 63
        }
      ]
    },
    {
      "cell_type": "markdown",
      "source": [
        "Задача 3"
      ],
      "metadata": {
        "id": "7WPjfXh8bRdu"
      }
    },
    {
      "cell_type": "code",
      "source": [
        "vector_1=np.arange(0,1.5,0.1)\n",
        "print(vector_1)\n",
        "vector_2=np.arange(1,7,1)\n",
        "print(vector_2)\n"
      ],
      "metadata": {
        "colab": {
          "base_uri": "https://localhost:8080/"
        },
        "id": "7yCmJ1cvbZmy",
        "outputId": "98a246b5-baa3-4fe3-b54c-3649dbc991c1"
      },
      "execution_count": null,
      "outputs": [
        {
          "output_type": "stream",
          "name": "stdout",
          "text": [
            "[0.  0.1 0.2 0.3 0.4 0.5 0.6 0.7 0.8 0.9 1.  1.1 1.2 1.3 1.4]\n",
            "[1 2 3 4 5 6]\n"
          ]
        }
      ]
    },
    {
      "cell_type": "code",
      "source": [
        "new_vector_1=np.reshape(vector_1,(5,3))\n",
        "new_vector_2=np.reshape(vector_2,(3,2))\n",
        "print(new_vector_1)\n",
        "print(new_vector_2)"
      ],
      "metadata": {
        "colab": {
          "base_uri": "https://localhost:8080/"
        },
        "id": "iL-zhed0ck5x",
        "outputId": "f2e3c54e-7ef1-4ce0-937f-23adb00c04c6"
      },
      "execution_count": null,
      "outputs": [
        {
          "output_type": "stream",
          "name": "stdout",
          "text": [
            "[[0.  0.1 0.2]\n",
            " [0.3 0.4 0.5]\n",
            " [0.6 0.7 0.8]\n",
            " [0.9 1.  1.1]\n",
            " [1.2 1.3 1.4]]\n",
            "[[1 2]\n",
            " [3 4]\n",
            " [5 6]]\n"
          ]
        }
      ]
    },
    {
      "cell_type": "code",
      "source": [
        "result=np.dot(new_vector_1,new_vector_2)\n",
        "result"
      ],
      "metadata": {
        "colab": {
          "base_uri": "https://localhost:8080/"
        },
        "id": "Z3Kcke36drwh",
        "outputId": "f5519105-cdc7-40ec-d3a6-0ca2987f6034"
      },
      "execution_count": null,
      "outputs": [
        {
          "output_type": "execute_result",
          "data": {
            "text/plain": [
              "array([[ 1.3,  1.6],\n",
              "       [ 4. ,  5.2],\n",
              "       [ 6.7,  8.8],\n",
              "       [ 9.4, 12.4],\n",
              "       [12.1, 16. ]])"
            ]
          },
          "metadata": {},
          "execution_count": 60
        }
      ]
    },
    {
      "cell_type": "markdown",
      "source": [
        "Задача 4"
      ],
      "metadata": {
        "id": "LvaKFHD7osQJ"
      }
    },
    {
      "cell_type": "code",
      "source": [
        "vector_3=np.arange(1,37,1,dtype=np.int32)\n",
        "new_vector_3 = []\n",
        "for i in vector_3:\n",
        "   if i % 3 == 0:\n",
        "      new_vector_3.append(i)\n",
        "print(new_vector_3)\n",
        "print(vector_3)"
      ],
      "metadata": {
        "colab": {
          "base_uri": "https://localhost:8080/"
        },
        "id": "2iHnARZ6ouMR",
        "outputId": "5012d6d1-0dab-4b88-c37a-758ebb3aa1aa"
      },
      "execution_count": null,
      "outputs": [
        {
          "output_type": "stream",
          "name": "stdout",
          "text": [
            "[3, 6, 9, 12, 15, 18, 21, 24, 27, 30, 33, 36]\n",
            "[ 1  2  3  4  5  6  7  8  9 10 11 12 13 14 15 16 17 18 19 20 21 22 23 24\n",
            " 25 26 27 28 29 30 31 32 33 34 35 36]\n"
          ]
        }
      ]
    }
  ]
}