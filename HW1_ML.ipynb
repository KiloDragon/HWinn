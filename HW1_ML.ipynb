{
  "nbformat": 4,
  "nbformat_minor": 0,
  "metadata": {
    "colab": {
      "provenance": [],
      "authorship_tag": "ABX9TyMp3fMIWhneGUVE9ck7J6D7",
      "include_colab_link": true
    },
    "kernelspec": {
      "name": "python3",
      "display_name": "Python 3"
    },
    "language_info": {
      "name": "python"
    }
  },
  "cells": [
    {
      "cell_type": "markdown",
      "metadata": {
        "id": "view-in-github",
        "colab_type": "text"
      },
      "source": [
        "<a href=\"https://colab.research.google.com/github/KiloDragon/HWinn/blob/main/HW1_ML.ipynb\" target=\"_parent\"><img src=\"https://colab.research.google.com/assets/colab-badge.svg\" alt=\"Open In Colab\"/></a>"
      ]
    },
    {
      "cell_type": "code",
      "execution_count": 19,
      "metadata": {
        "colab": {
          "base_uri": "https://localhost:8080/",
          "height": 784
        },
        "id": "GV3LTszmU0-3",
        "outputId": "feed612d-1943-41ce-9ac6-0c64e3475789"
      },
      "outputs": [
        {
          "output_type": "stream",
          "name": "stdout",
          "text": [
            "      Math   Eng  DataScience  Russian  Physics  Chemistry  TimeLab  LabWork\n",
            "0     53.0  40.0         58.0     59.0     30.0       37.0     47.0        4\n",
            "1     51.0  47.0         50.0     41.0     59.0       58.0     51.0        5\n",
            "2     51.0  61.0         55.0     41.0     54.0       40.0     38.0        4\n",
            "3     59.0  50.0         48.0     43.0     62.0       48.0     36.0        4\n",
            "4     46.0  46.0         55.0     54.0     54.0       54.0     52.0        3\n",
            "...    ...   ...          ...      ...      ...        ...      ...      ...\n",
            "1995  52.0  53.0         54.0     61.0     51.0       42.0     55.0        4\n",
            "1996  49.0  58.0         32.0     32.0     59.0       65.0     52.0        5\n",
            "1997  37.0  51.0         46.0     47.0     53.0       37.0     53.0        3\n",
            "1998  39.0  47.0         49.0     39.0     58.0       46.0     49.0        3\n",
            "1999  46.0  53.0         49.0     58.0     41.0       36.0     51.0        4\n",
            "\n",
            "[2000 rows x 8 columns]\n"
          ]
        },
        {
          "output_type": "display_data",
          "data": {
            "text/plain": [
              "<Figure size 640x480 with 1 Axes>"
            ],
            "image/png": "[encoded data removed]"
          },
          "metadata": {}
        },
        {
          "output_type": "stream",
          "name": "stdout",
          "text": [
            "Classification accuracy : 0.665\n",
            "Оценка :[4]\n"
          ]
        },
        {
          "output_type": "stream",
          "name": "stderr",
          "text": [
            "/usr/local/lib/python3.10/dist-packages/sklearn/base.py:439: UserWarning: X does not have valid feature names, but SelectKBest was fitted with feature names\n",
            "  warnings.warn(\n"
          ]
        }
      ],
      "source": [
        "import pandas as pd\n",
        "import matplotlib.pyplot as plt\n",
        "import numpy as np\n",
        "import pandas as pd\n",
        "import scipy.stats as ss\n",
        "from sklearn.feature_selection import SelectKBest, f_classif\n",
        "from sklearn.model_selection import train_test_split\n",
        "from sklearn.pipeline import make_pipeline\n",
        "from sklearn.svm import LinearSVC\n",
        "\n",
        "lab_arr = np.arange(3,6)\n",
        "mu, sigma = 50, 10\n",
        "mu1, sigma1 = 120, 10\n",
        "rng = np.random.default_rng(seed=42)\n",
        "np.random.seed(seed=42)\n",
        "rints_float = rng.normal(mu, sigma, size=(2000,6))\n",
        "rints_int = np.round(rints_float)\n",
        "xU, xL = lab_arr + 0.5, lab_arr - 0.5\n",
        "prob = ss.norm.cdf(xU,loc=4, scale = 0.5) - ss.norm.cdf(xL,loc=4, scale = 0.5)\n",
        "prob = prob / prob.sum()\n",
        "rlab = np.random.choice(lab_arr, size = 2000, p = prob)\n",
        "rtime_float = rng.normal(mu, sigma, size = (2000,1))\n",
        "rtime_int = np.round(rtime_float)\n",
        "df = pd.DataFrame(rints_int, columns=['Math','Eng','DataScience','Russian','Physics','Chemistry'])\n",
        "df['TimeLab'] = rtime_int\n",
        "df['LabWork'] = rlab\n",
        "print(df)\n",
        "y = df.pop('LabWork')\n",
        "x = df\n",
        "X_train, X_test, y_train, y_test = train_test_split(x, y, test_size=0.33, random_state=42)\n",
        "\n",
        "selector = SelectKBest(f_classif, k=3)\n",
        "selector.fit(X_train, y_train)\n",
        "scores = -np.log10(selector.pvalues_)\n",
        "scores /= scores.max()\n",
        "\n",
        "X_indices = np.arange(df.shape[-1])\n",
        "plt.figure(1)\n",
        "plt.clf()\n",
        "plt.bar(X_indices - 0.05, scores, width=0.2)\n",
        "plt.title(\"Feature univariate score\")\n",
        "plt.xlabel(\"Feature number\")\n",
        "plt.ylabel(r\"Univariate score ($-Log(p_{value})$)\")\n",
        "plt.show()\n",
        "\n",
        "#Лучшие признаки 5,3,1 ('Physics','DataScience','Math')\n",
        "\n",
        "clf_selected = make_pipeline(\n",
        "    SelectKBest(f_classif, k=3),  LinearSVC(dual=False,max_iter=2000)\n",
        ")\n",
        "clf_selected.fit(X_train, y_train)\n",
        "print(\n",
        "    \"Classification accuracy : {:.3f}\".format(\n",
        "        clf_selected.score(X_test, y_test)\n",
        "    )\n",
        ")\n",
        "\n",
        "def predict_score (Math,Eng,DataScience,Russian,Physics,Chemistry,Time):\n",
        "    lab_work=clf_selected.predict([[Math,Eng,DataScience,Russian,Physics,Chemistry,Time]])\n",
        "    return lab_work\n",
        "\n",
        "\n",
        "print(f\"Оценка :{predict_score(10,90,20,30,40,60,180)}\")"
      ]
    },
    {
      "cell_type": "markdown",
      "source": [
        "Сохраняем модель"
      ],
      "metadata": {
        "id": "ADcU46iFWdrX"
      }
    },
    {
      "cell_type": "code",
      "source": [
        "import joblib\n",
        "#Сохраняем в файл\n",
        "joblib_file = \"joblib_model.pkl\"\n",
        "joblib.dump(clf_selected, joblib_file)\n",
        "\n",
        " # Грузим\n",
        "joblib_model = joblib.load(joblib_file)\n",
        "\n",
        " # Расчет\n",
        "score = joblib_model.score(X_test, y_test)\n",
        "print(\"Test score: {0:.2f} %\".format(100 * score))\n"
      ],
      "metadata": {
        "colab": {
          "base_uri": "https://localhost:8080/"
        },
        "id": "L2D_1fcvWhv3",
        "outputId": "8f806c84-0e33-4329-cb19-80fb1fc8f180"
      },
      "execution_count": 21,
      "outputs": [
        {
          "output_type": "stream",
          "name": "stdout",
          "text": [
            "Test score: 66.52 %\n"
          ]
        }
      ]
    }
  ]
}